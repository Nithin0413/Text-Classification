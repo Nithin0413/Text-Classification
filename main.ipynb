{
 "cells": [
  {
   "cell_type": "markdown",
   "metadata": {},
   "source": [
    "<span style=\"font-size: 32px; font-weight:bold\">Text Classification</span>"
   ]
  },
  {
   "cell_type": "code",
   "execution_count": 1,
   "metadata": {},
   "outputs": [],
   "source": [
    "from sklearn.datasets import fetch_20newsgroups\n",
    "from nltk.corpus import stopwords\n",
    "import string\n",
    "from nltk.stem import WordNetLemmatizer\n",
    "from nltk import pos_tag\n",
    "from nltk.corpus import wordnet\n",
    "from nltk.tokenize import sent_tokenize,word_tokenize\n",
    "from sklearn.model_selection import train_test_split\n",
    "from sklearn.naive_bayes import MultinomialNB\n",
    "from sklearn.feature_extraction.text import CountVectorizer\n",
    "from sklearn import metrics\n",
    "import numpy as np\n",
    "from sklearn.metrics import classification_report, confusion_matrix\n",
    "import matplotlib.pyplot as plt"
   ]
  },
  {
   "cell_type": "markdown",
   "metadata": {},
   "source": [
    "<span style=\"font-size: 25px; font-weight:bold\">Data Preprocessing</span>"
   ]
  },
  {
   "cell_type": "code",
   "execution_count": 2,
   "metadata": {},
   "outputs": [],
   "source": [
    "data = fetch_20newsgroups(subset='all', shuffle=True, random_state=42)"
   ]
  },
  {
   "cell_type": "code",
   "execution_count": 3,
   "metadata": {},
   "outputs": [
    {
     "data": {
      "text/plain": [
       "dict_keys(['data', 'filenames', 'target_names', 'target', 'DESCR'])"
      ]
     },
     "execution_count": 3,
     "metadata": {},
     "output_type": "execute_result"
    }
   ],
   "source": [
    "data.keys()"
   ]
  },
  {
   "cell_type": "code",
   "execution_count": 4,
   "metadata": {},
   "outputs": [
    {
     "data": {
      "text/plain": [
       "(18846, 18846)"
      ]
     },
     "execution_count": 4,
     "metadata": {},
     "output_type": "execute_result"
    }
   ],
   "source": [
    "len(data['data']),len(data['target'])# total documents/newsgroup in our training example"
   ]
  },
  {
   "cell_type": "code",
   "execution_count": 5,
   "metadata": {},
   "outputs": [
    {
     "data": {
      "text/plain": [
       "20"
      ]
     },
     "execution_count": 5,
     "metadata": {},
     "output_type": "execute_result"
    }
   ],
   "source": [
    "len(data['target_names']) # total possible labels for the doucments/newsgroups wihich 20"
   ]
  },
  {
   "cell_type": "code",
   "execution_count": 6,
   "metadata": {},
   "outputs": [],
   "source": [
    "X_documents =[word_tokenize(document) for document in data['data']] # X\n",
    "Y_labels = data['target'] # Y"
   ]
  },
  {
   "cell_type": "markdown",
   "metadata": {},
   "source": [
    "<span style=\"font-size: 20px; font-weight:light\">training data comprises of 18846 documents and there correspomding labels as output</span>  \n",
    "<span style=\"font-size: 20px; font-weight:light\">so X_documents = training examples and Y_labels = labels corresponding to training documents</span>"
   ]
  },
  {
   "cell_type": "code",
   "execution_count": 7,
   "metadata": {},
   "outputs": [],
   "source": [
    "X_train, X_test, Y_train, Y_test = train_test_split(X_documents, Y_labels, random_state=1)"
   ]
  },
  {
   "cell_type": "code",
   "execution_count": 8,
   "metadata": {},
   "outputs": [
    {
     "data": {
      "text/plain": [
       "905"
      ]
     },
     "execution_count": 8,
     "metadata": {},
     "output_type": "execute_result"
    }
   ],
   "source": [
    "stop_words = set(stopwords.words('english'))\n",
    "punctuations = list(string.punctuation)\n",
    "extra_stops_word=np.loadtxt(\"data/stop words english.txt\",dtype=str, encoding='utf-8')\n",
    "stop_words.update(punctuations)\n",
    "stop_words.update(extra_stops_word)\n",
    "len(stop_words)"
   ]
  },
  {
   "cell_type": "code",
   "execution_count": 9,
   "metadata": {},
   "outputs": [],
   "source": [
    "# constructing vocabulary - contains all the words present across all training document\n",
    "# thus single word can be present multiple times in the vocabulary\n",
    "vocabulary =[]\n",
    "for document in X_train:\n",
    "    for word in document:\n",
    "        if word.lower() not in stop_words and len(word)>3:\n",
    "            vocabulary.append(word.lower())"
   ]
  },
  {
   "cell_type": "code",
   "execution_count": 10,
   "metadata": {},
   "outputs": [
    {
     "data": {
      "text/plain": [
       "1686645"
      ]
     },
     "execution_count": 10,
     "metadata": {},
     "output_type": "execute_result"
    }
   ],
   "source": [
    "len(vocabulary)"
   ]
  },
  {
   "cell_type": "code",
   "execution_count": 11,
   "metadata": {},
   "outputs": [],
   "source": [
    "# constructing dictionary with keys as words in vocabulary and value as there count in all documents\n",
    "vocabulary_dic ={}\n",
    "for word in vocabulary:\n",
    "    if word in vocabulary_dic.keys():\n",
    "        vocabulary_dic[word]=vocabulary_dic[word]+1\n",
    "    else:\n",
    "        vocabulary_dic[word]=1"
   ]
  },
  {
   "cell_type": "code",
   "execution_count": 12,
   "metadata": {},
   "outputs": [
    {
     "data": {
      "text/plain": [
       "188277"
      ]
     },
     "execution_count": 12,
     "metadata": {},
     "output_type": "execute_result"
    }
   ],
   "source": [
    "len(vocabulary_dic.keys())"
   ]
  },
  {
   "cell_type": "markdown",
   "metadata": {},
   "source": [
    "<span style=\"font-size: 20px; font-weight:light\">Total unique words across all the training documents execopt the stoping words = 213449</span>"
   ]
  },
  {
   "cell_type": "markdown",
   "metadata": {},
   "source": [
    "<span style=\"font-size: 25px; font-weight:bold\">Distribution of Words (Frequency vs Word)</span>"
   ]
  },
  {
   "cell_type": "code",
   "execution_count": 13,
   "metadata": {},
   "outputs": [],
   "source": [
    "unique_words = np.array([key for key in vocabulary_dic.keys()])\n",
    "freq_words = np.array([value for value in vocabulary_dic.values()])"
   ]
  },
  {
   "cell_type": "code",
   "execution_count": 14,
   "metadata": {},
   "outputs": [
    {
     "data": {
      "text/plain": [
       "((188277,), (188277,))"
      ]
     },
     "execution_count": 14,
     "metadata": {},
     "output_type": "execute_result"
    }
   ],
   "source": [
    "unique_words.shape,freq_words.shape"
   ]
  },
  {
   "cell_type": "code",
   "execution_count": 15,
   "metadata": {},
   "outputs": [],
   "source": [
    "unique_words=unique_words[np.argsort(freq_words)][::-1]\n",
    "freq_words=np.sort(freq_words)[::-1]"
   ]
  },
  {
   "cell_type": "code",
   "execution_count": 16,
   "metadata": {},
   "outputs": [
    {
     "data": {
      "image/png": "[encoded data removed]",
      "text/plain": [
       "<Figure size 2000x1000 with 1 Axes>"
      ]
     },
     "metadata": {},
     "output_type": "display_data"
    }
   ],
   "source": [
    "#plot the words vs frequency graph \n",
    "lower_limit=0 \n",
    "upper_limit=3000 \n",
    "difference_between_each_xtick=50  #default value. change these values to observe the graph in more depth\n",
    "#adjusting size of the graph for more clearity.\n",
    "plt.figure(figsize=(20, 10))\n",
    "#plotting\n",
    "plt.plot(np.arange(upper_limit), freq_words[lower_limit:upper_limit])\n",
    "plt.xlabel('n-th Word') # x axis represents word so n-th word represt most occuring n-th word\n",
    "plt.ylabel(\"Frequency\") # y axis represent the frequency corresponding to these words\n",
    "#adjusting the xticks\n",
    "plt.xticks(np.arange(lower_limit, upper_limit, 50), rotation=45)\n",
    "plt.grid()\n",
    "plt.show()"
   ]
  },
  {
   "cell_type": "markdown",
   "metadata": {},
   "source": [
    "<span style=\"font-size: 20px; font-weight:light\">From the above graph it is evident that the count of words exponentialy decreases so it doesn't matter to consider those words which roughly present in few documents</span>  \n",
    "<span style=\"font-size: 20px; font-weight:light\">For the training purpose it's better to take more frequently words excluding the stopping words as it will have more effect on deciding whhich label to choose</span>  \n",
    "<span style=\"font-size: 20px; font-weight:light\">So in our case we are going with first 10000 words as features set or word features</span>\n"
   ]
  },
  {
   "cell_type": "code",
   "execution_count": 17,
   "metadata": {},
   "outputs": [
    {
     "data": {
      "text/plain": [
       "22"
      ]
     },
     "execution_count": 17,
     "metadata": {},
     "output_type": "execute_result"
    }
   ],
   "source": [
    "freq_words[10000]"
   ]
  },
  {
   "cell_type": "code",
   "execution_count": 18,
   "metadata": {},
   "outputs": [],
   "source": [
    "word_features = unique_words[0:10000].tolist()"
   ]
  },
  {
   "cell_type": "code",
   "execution_count": 19,
   "metadata": {},
   "outputs": [],
   "source": [
    "# the fucntion converts the given document to an array of length (word_features)\n",
    "# and each index corresponds to each feature word values how much it contains in the document\n",
    "def document_to_array(document,word_features):\n",
    "    modified_document =np.zeros(len(word_features))\n",
    "    for word in document:\n",
    "        if word in word_features:\n",
    "            index = word_features.index(word)\n",
    "            modified_document[index]=modified_document[index]+1\n",
    "    return modified_document     "
   ]
  },
  {
   "cell_type": "code",
   "execution_count": 20,
   "metadata": {},
   "outputs": [],
   "source": [
    "def get_modified_data(data,word_features):\n",
    "    modified_data=[]\n",
    "    for document in data:\n",
    "        modified_data.append(document_to_array(document,word_features))\n",
    "    return modified_data"
   ]
  },
  {
   "cell_type": "code",
   "execution_count": 21,
   "metadata": {},
   "outputs": [],
   "source": [
    "X_train_modified = get_modified_data(X_train,word_features)\n",
    "X_test_modified = get_modified_data(X_test,word_features)"
   ]
  },
  {
   "cell_type": "markdown",
   "metadata": {},
   "source": [
    "<span style=\"font-size: 25px; font-weight:bold\">SKLearn Multinomial Naive Bayes</span>"
   ]
  },
  {
   "cell_type": "code",
   "execution_count": null,
   "metadata": {},
   "outputs": [
    {
     "data": {
      "text/html": [
       "<style>#sk-container-id-1 {color: black;}#sk-container-id-1 pre{padding: 0;}#sk-container-id-1 div.sk-toggleable {background-color: white;}#sk-container-id-1 label.sk-toggleable__label {cursor: pointer;display: block;width: 100%;margin-bottom: 0;padding: 0.3em;box-sizing: border-box;text-align: center;}#sk-container-id-1 label.sk-toggleable__label-arrow:before {content: \"▸\";float: left;margin-right: 0.25em;color: #696969;}#sk-container-id-1 label.sk-toggleable__label-arrow:hover:before {color: black;}#sk-container-id-1 div.sk-estimator:hover label.sk-toggleable__label-arrow:before {color: black;}#sk-container-id-1 div.sk-toggleable__content {max-height: 0;max-width: 0;overflow: hidden;text-align: left;background-color: #f0f8ff;}#sk-container-id-1 div.sk-toggleable__content pre {margin: 0.2em;color: black;border-radius: 0.25em;background-color: #f0f8ff;}#sk-container-id-1 input.sk-toggleable__control:checked~div.sk-toggleable__content {max-height: 200px;max-width: 100%;overflow: auto;}#sk-container-id-1 input.sk-toggleable__control:checked~label.sk-toggleable__label-arrow:before {content: \"▾\";}#sk-container-id-1 div.sk-estimator input.sk-toggleable__control:checked~label.sk-toggleable__label {background-color: #d4ebff;}#sk-container-id-1 div.sk-label input.sk-toggleable__control:checked~label.sk-toggleable__label {background-color: #d4ebff;}#sk-container-id-1 input.sk-hidden--visually {border: 0;clip: rect(1px 1px 1px 1px);clip: rect(1px, 1px, 1px, 1px);height: 1px;margin: -1px;overflow: hidden;padding: 0;position: absolute;width: 1px;}#sk-container-id-1 div.sk-estimator {font-family: monospace;background-color: #f0f8ff;border: 1px dotted black;border-radius: 0.25em;box-sizing: border-box;margin-bottom: 0.5em;}#sk-container-id-1 div.sk-estimator:hover {background-color: #d4ebff;}#sk-container-id-1 div.sk-parallel-item::after {content: \"\";width: 100%;border-bottom: 1px solid gray;flex-grow: 1;}#sk-container-id-1 div.sk-label:hover label.sk-toggleable__label {background-color: #d4ebff;}#sk-container-id-1 div.sk-serial::before {content: \"\";position: absolute;border-left: 1px solid gray;box-sizing: border-box;top: 0;bottom: 0;left: 50%;z-index: 0;}#sk-container-id-1 div.sk-serial {display: flex;flex-direction: column;align-items: center;background-color: white;padding-right: 0.2em;padding-left: 0.2em;position: relative;}#sk-container-id-1 div.sk-item {position: relative;z-index: 1;}#sk-container-id-1 div.sk-parallel {display: flex;align-items: stretch;justify-content: center;background-color: white;position: relative;}#sk-container-id-1 div.sk-item::before, #sk-container-id-1 div.sk-parallel-item::before {content: \"\";position: absolute;border-left: 1px solid gray;box-sizing: border-box;top: 0;bottom: 0;left: 50%;z-index: -1;}#sk-container-id-1 div.sk-parallel-item {display: flex;flex-direction: column;z-index: 1;position: relative;background-color: white;}#sk-container-id-1 div.sk-parallel-item:first-child::after {align-self: flex-end;width: 50%;}#sk-container-id-1 div.sk-parallel-item:last-child::after {align-self: flex-start;width: 50%;}#sk-container-id-1 div.sk-parallel-item:only-child::after {width: 0;}#sk-container-id-1 div.sk-dashed-wrapped {border: 1px dashed gray;margin: 0 0.4em 0.5em 0.4em;box-sizing: border-box;padding-bottom: 0.4em;background-color: white;}#sk-container-id-1 div.sk-label label {font-family: monospace;font-weight: bold;display: inline-block;line-height: 1.2em;}#sk-container-id-1 div.sk-label-container {text-align: center;}#sk-container-id-1 div.sk-container {/* jupyter's `normalize.less` sets `[hidden] { display: none; }` but bootstrap.min.css set `[hidden] { display: none !important; }` so we also need the `!important` here to be able to override the default hidden behavior on the sphinx rendered scikit-learn.org. See: https://github.com/scikit-learn/scikit-learn/issues/21755 */display: inline-block !important;position: relative;}#sk-container-id-1 div.sk-text-repr-fallback {display: none;}</style><div id=\"sk-container-id-1\" class=\"sk-top-container\"><div class=\"sk-text-repr-fallback\"><pre>MultinomialNB()</pre><b>In a Jupyter environment, please rerun this cell to show the HTML representation or trust the notebook. <br />On GitHub, the HTML representation is unable to render, please try loading this page with nbviewer.org.</b></div><div class=\"sk-container\" hidden><div class=\"sk-item\"><div class=\"sk-estimator sk-toggleable\"><input class=\"sk-toggleable__control sk-hidden--visually\" id=\"sk-estimator-id-1\" type=\"checkbox\" checked><label for=\"sk-estimator-id-1\" class=\"sk-toggleable__label sk-toggleable__label-arrow\">MultinomialNB</label><div class=\"sk-toggleable__content\"><pre>MultinomialNB()</pre></div></div></div></div></div>"
      ],
      "text/plain": [
       "MultinomialNB()"
      ]
     },
     "execution_count": 45,
     "metadata": {},
     "output_type": "execute_result"
    }
   ],
   "source": [
    "model = MultinomialNB()\n",
    "model.fit(X_train_modified, Y_train)"
   ]
  },
  {
   "cell_type": "code",
   "execution_count": null,
   "metadata": {},
   "outputs": [],
   "source": [
    "Y_pred = model.predict(X_test_modified)"
   ]
  },
  {
   "cell_type": "code",
   "execution_count": null,
   "metadata": {},
   "outputs": [
    {
     "data": {
      "text/plain": [
       "0.8064516129032258"
      ]
     },
     "execution_count": 47,
     "metadata": {},
     "output_type": "execute_result"
    }
   ],
   "source": [
    "accuracy = metrics.accuracy_score(Y_test, Y_pred)\n",
    "accuracy"
   ]
  },
  {
   "cell_type": "markdown",
   "metadata": {},
   "source": [
    "<span style=\"font-size: 25px; font-weight:bold\">Scratch Naive Bayes</span>"
   ]
  },
  {
   "cell_type": "code",
   "execution_count": null,
   "metadata": {},
   "outputs": [],
   "source": [
    "X_train = np.array(X_train_modified)\n",
    "Y_train = np.array(Y_train)\n",
    "X_test = np.array(X_test_modified)\n",
    "Y_test = np.array(Y_test)"
   ]
  },
  {
   "cell_type": "code",
   "execution_count": null,
   "metadata": {},
   "outputs": [],
   "source": [
    "# The fit function is responsible for creating dictionary of the training data set\n",
    "# dictionary indicates the count of total features words corresponding to specific class document\n",
    "\n",
    "def fit (X_train,Y_train,feature_words):\n",
    "    dictionary ={}\n",
    "    dictionary['total_docs'] = Y_train.shape[0]\n",
    "    possible_labels = set(Y_train)\n",
    "    for label_i in possible_labels:\n",
    "        # the row_label_i is an array with 'true' against those index values where the Y_train is labelled as label_i and 'false' otherwise\n",
    "        rows_label_i = (Y_train == label_i)\n",
    "        \n",
    "        # the X_train_label_i and Y_train_label_i  only contains those rows from X_train and Y_train where rows_label_i is 'true'\n",
    "        X_train_label_i = X_train[rows_label_i]\n",
    "        Y_train_label_i = Y_train[rows_label_i]\n",
    "        dictionary[label_i] ={}\n",
    "        dictionary[label_i]['total_docs'] = Y_train_label_i.shape[0]\n",
    "        total_words = 0\n",
    "        \n",
    "        for i in range(len(feature_words)):\n",
    "            word = feature_words[i]\n",
    "            total_words +=X_train_label_i[:, i].sum()\n",
    "            dictionary[label_i][word] = X_train_label_i[:, i].sum()\n",
    "        dictionary[label_i]['total_words'] =total_words\n",
    "    return dictionary"
   ]
  },
  {
   "cell_type": "code",
   "execution_count": null,
   "metadata": {},
   "outputs": [],
   "source": [
    "# function which return log probability that for given feature = x what is the probability that label = label_i\n",
    "# using bayes theorem\n",
    "\n",
    "def log_probability(dictionary,x,label_i,word_features,alpha=1.0):\n",
    "    # probability1 = Probability of getting label_i out of all possible labels\n",
    "    log_probability1 = np.log(dictionary[label_i]['total_docs']) -np.log(dictionary['total_docs'])\n",
    "    \n",
    "    # probability2 = Probability of document has feature words (x1,x2,,,) of x given the docuemnt class is label_i\n",
    "    log_probability2=0\n",
    "    total_word_train = dictionary[label_i]['total_words']\n",
    "    total_word_test = np.sum(x)\n",
    "    \n",
    "    # probability3 = A factor lamba is being multipied with the above two result\n",
    "    # lamba = total count of xi (feature of x) in 'test document' / total number of words in 'test document'\n",
    "    \n",
    "    for i in range(len(x)):\n",
    "        if x[i] ==0:\n",
    "            continue\n",
    "        count_current_word_train = dictionary[label_i][word_features[i]]\n",
    "        count_current_word_test = x[i]\n",
    "        _lamda = np.log(count_current_word_test) - np.log(total_word_test)\n",
    "        log_probability2 += np.log((count_current_word_train + alpha)) - np.log((total_word_train + alpha * len(word_features)))\n",
    "        log_probability2 +=_lamda\n",
    "        \n",
    "    log_result = log_probability1 + log_probability2\n",
    "    return log_result"
   ]
  },
  {
   "cell_type": "code",
   "execution_count": null,
   "metadata": {},
   "outputs": [],
   "source": [
    "# The predict_pount_label function is responsible for predicitng the label for a single document\n",
    "def predict_point_label(dictionary,x,word_features):\n",
    "    possible_labels = dictionary.keys()\n",
    "    best_probability=-1\n",
    "    best_label =-1\n",
    "    first_run=True\n",
    "    for label_i in possible_labels:\n",
    "        if label_i == 'total_docs':\n",
    "            continue\n",
    "        probability_label_i = log_probability(dictionary,x,label_i,word_features)\n",
    "        if first_run or probability_label_i>best_probability:\n",
    "            best_probability = probability_label_i\n",
    "            best_label = label_i\n",
    "        first_run=False\n",
    "    return best_label"
   ]
  },
  {
   "cell_type": "code",
   "execution_count": null,
   "metadata": {},
   "outputs": [],
   "source": [
    "# The predict function is responsible for predicitng the labels for the testing data\n",
    "def predict (dictionary,X_test,word_features):\n",
    "    Y_pred = []\n",
    "    for x in X_test:\n",
    "        x_label = predict_point_label(dictionary,x,word_features)\n",
    "        Y_pred.append(x_label)\n",
    "    return Y_pred"
   ]
  },
  {
   "cell_type": "code",
   "execution_count": null,
   "metadata": {},
   "outputs": [],
   "source": [
    "dictionary = fit(X_train,Y_train,word_features)"
   ]
  },
  {
   "cell_type": "code",
   "execution_count": null,
   "metadata": {},
   "outputs": [],
   "source": [
    "Y_pred = predict(dictionary,X_test,word_features)"
   ]
  },
  {
   "cell_type": "code",
   "execution_count": null,
   "metadata": {},
   "outputs": [
    {
     "data": {
      "text/plain": [
       "0.807937181663837"
      ]
     },
     "execution_count": 73,
     "metadata": {},
     "output_type": "execute_result"
    }
   ],
   "source": [
    "accuracy = metrics.accuracy_score(Y_test, Y_pred)\n",
    "accuracy"
   ]
  },
  {
   "cell_type": "markdown",
   "metadata": {},
   "source": [
    "<span style=\"font-size: 20px; font-weight:light\">Accuracy obtained in both sklearn naive bayes classifer and the scratch built naive classifier are nearly same indicating both perfroms well </span>"
   ]
  }
 ],
 "metadata": {
  "kernelspec": {
   "display_name": "Python 3",
   "language": "python",
   "name": "python3"
  },
  "language_info": {
   "codemirror_mode": {
    "name": "ipython",
    "version": 3
   },
   "file_extension": ".py",
   "mimetype": "text/x-python",
   "name": "python",
   "nbconvert_exporter": "python",
   "pygments_lexer": "ipython3",
   "version": "3.11.9"
  }
 },
 "nbformat": 4,
 "nbformat_minor": 2
}
